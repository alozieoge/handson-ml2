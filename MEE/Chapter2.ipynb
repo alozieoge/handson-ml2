{
 "cells": [
  {
   "cell_type": "markdown",
   "id": "0184731a",
   "metadata": {},
   "source": [
    "# Chapter 2: End-to-End Machine Learning Project\n",
    "\n",
    "## Steps to Machine Learning\n",
    "### Frame the problem and look at the big picture\n",
    "1. Define the <u>objective</u> in business terms. \n",
    "2. How will your solution be used?\n",
    "3. What are the current solutions / workarounds (if any)?\n",
    "4. How should you frame this problem (supervised / unsupervised, online / offline|batch, instance-based / model-based, etc)?\n",
    "5. How should <u>performance</u> be measured?\n",
    "6. Is the performance measure aligned with the business objective?\n",
    "7. What would be the minimum performance needed to reach the business objective?\n",
    "8. What are comparable problems? Can you reuse experience or tools?\n",
    "9. Is human expertise available (SME)?\n",
    "10. How would you solve the problem manually?\n",
    "11. List the <u>assumptions</u> you (or others) have made so far.\n",
    "12. Verify the assumptions if possible.\n",
    "\n",
    "### Get the data\n",
    "**Note**: Automate as much as possible so you can easily get fresh data. \n",
    "\n",
    "1. List the data you need and how much you need. \n",
    "2. Find and document where you can get the data. \n",
    "3. Check how much <u>space / storage</u> it will take. \n",
    "4. Check legal obigations and get authorization if necessary. \n",
    "5. Get access <u>authorizations</u>. \n",
    "6. Create a workspace (with enough storage space). \n",
    "7. Get the data. \n",
    "8. Convert the data to a format you can easily manipulate (without changing the data itself). \n",
    "9. Ensure sensitive information is deleted or protected (e.g. anonymized). \n",
    "10. Check the size and type of data (time series, sample, geographical, etc.).\n",
    "11. Sample a test set, put it aside, and never look at it (no data snooping!).\n",
    "\n",
    "### Explore the data\n",
    "**Note**: Try to get insights from a field expert for these steps. \n",
    "\n",
    "1. Create a copy of the data for exploration (sampling it down to a manageable size if necessary). \n",
    "2. Create a Jupyter notebook to keep a record of your data exploration. \n",
    "3. Study each attribute and its characteristics. \n",
    "    - Name\n",
    "    - Type (categorical, int/float, bounded/unbounded, text, structured, etc.)\n",
    "    - % of missing values\n",
    "    - Noisiness and type of noise (stochastic, outliers, rounding errors, etc.)\n",
    "    - Usefulness for the task\n",
    "    - Type of ditribution (Gaussian, uniform, logarithmic, etc.)\n",
    "4. For supervised learning tasks, identify the target attribute(s). \n",
    "5. <u>Visualize</u> the data. \n",
    "6. Study the correlations between attributes. \n",
    "7. Study how you would solve the problem manually. \n",
    "8. Identify the promising transformations you may want to apply. \n",
    "9. Identify extra data that would be useful (go back to previous step). \n",
    "10. Document what you have learned. \n",
    "\n",
    "### Prepare the data\n",
    "**Notes**: \n",
    "- Work on copies of the data (keep original dataset intact). \n",
    "- Write functions for all data <u>transformations</u> you apply, for 5 reasons:\n",
    "    - So you can easily prepare the data the next time you get a fresh dataset\n",
    "    - So you can apply these transformations in future projects\n",
    "    - To clean and prepare the test set\n",
    "    - To clean and prepare new data instannces once your solution is live\n",
    "    - To make it easy to treat your preparation choices as <u>hyper-parameters</u>\n",
    "    \n",
    "1. Data cleaning:\n",
    "    - Fix or remove outliers (optional). \n",
    "    - Fill in missing values e.g. with zero, mean, median, ...) or drop their rows (or columns). \n",
    "2. Feature selection (optional):\n",
    "    - Drop the attributes that provide no useful informatin for the task. \n",
    "3. Feature engineering, where appropriate:\n",
    "    - Discretize continuous features. \n",
    "    - Decompose features (e.g. catehorical, date/time, etc.)\n",
    "    - Add promising transformations of features (e.g. `log(x)`, `sqrt(x)`, `x**2`, etc.)\n",
    "    - Aggregate features into promising new features. \n",
    "4. Feature scaling\n",
    "    - Standardize or normalize features. "
   ]
  },
  {
   "cell_type": "code",
   "execution_count": null,
   "id": "e48f0afa",
   "metadata": {},
   "outputs": [],
   "source": []
  }
 ],
 "metadata": {
  "kernelspec": {
   "display_name": "HandsOnML",
   "language": "python",
   "name": "handsonml"
  },
  "language_info": {
   "codemirror_mode": {
    "name": "ipython",
    "version": 3
   },
   "file_extension": ".py",
   "mimetype": "text/x-python",
   "name": "python",
   "nbconvert_exporter": "python",
   "pygments_lexer": "ipython3",
   "version": "3.8.11"
  },
  "varInspector": {
   "cols": {
    "lenName": 16,
    "lenType": 16,
    "lenVar": 40
   },
   "kernels_config": {
    "python": {
     "delete_cmd_postfix": "",
     "delete_cmd_prefix": "del ",
     "library": "var_list.py",
     "varRefreshCmd": "print(var_dic_list())"
    },
    "r": {
     "delete_cmd_postfix": ") ",
     "delete_cmd_prefix": "rm(",
     "library": "var_list.r",
     "varRefreshCmd": "cat(var_dic_list()) "
    }
   },
   "types_to_exclude": [
    "module",
    "function",
    "builtin_function_or_method",
    "instance",
    "_Feature"
   ],
   "window_display": false
  }
 },
 "nbformat": 4,
 "nbformat_minor": 5
}
